{
 "cells": [
  {
   "cell_type": "code",
   "execution_count": 1,
   "metadata": {},
   "outputs": [
    {
     "name": "stdout",
     "output_type": "stream",
     "text": [
      "this is the solution of 20th march assignment\n"
     ]
    }
   ],
   "source": [
    "print(\"this is the solution of 20th march assignment\")"
   ]
  },
  {
   "attachments": {},
   "cell_type": "markdown",
   "metadata": {},
   "source": [
    "Q1. What is data encoding? How is it useful in data science?"
   ]
  },
  {
   "attachments": {},
   "cell_type": "markdown",
   "metadata": {},
   "source": [
    "Data encoding is the process of converting data from one format to another. It is useful in data science as it can improve efficiency and reduce storage requirements, while ensuring data accuracy and consistency. Encoding also enables interoperability between different systems and applications."
   ]
  },
  {
   "attachments": {},
   "cell_type": "markdown",
   "metadata": {},
   "source": [
    "Q2. What is nominal encoding? Provide an example of how you would use it in a real-world scenario."
   ]
  },
  {
   "attachments": {},
   "cell_type": "markdown",
   "metadata": {},
   "source": [
    "Nominal encoding is a type of data encoding that assigns a unique numerical value to each category or class in a categorical variable. For example, if we have a variable called \"Color\" with categories such as \"red\", \"green\", and \"blue\", nominal encoding would assign a unique numerical value to each category, such as 1 for \"red\", 2 for \"green\", and 3 for \"blue\".\n",
    "\n",
    "One real-world scenario where nominal encoding could be useful is in analyzing customer feedback for a product or service. Suppose we have a dataset with a categorical variable called \"Feedback\" that contains categories such as \"Positive\", \"Neutral\", and \"Negative\". Nominal encoding could be used to convert this variable into numerical values, which could then be used to calculate the percentage of positive, neutral, and negative feedback, or to compare the frequency of each type of feedback across different products or services."
   ]
  },
  {
   "attachments": {},
   "cell_type": "markdown",
   "metadata": {},
   "source": [
    "Q3. In what situations is nominal encoding preferred over one-hot encoding? Provide a practical example."
   ]
  },
  {
   "attachments": {},
   "cell_type": "markdown",
   "metadata": {},
   "source": [
    "\n",
    "\n",
    "Nominal encoding is preferred over one-hot encoding when the categorical feature has many unique values, and the encoding space using one-hot encoding will be too large. One-hot encoding works well when the number of unique values is small or moderate, and the dataset is not too large. \n",
    "\n",
    "For example, suppose we have a dataset of customer information, including their country of origin. If we use one-hot encoding, we would need to create a separate binary feature for each country, which would result in a large feature space. If the dataset has thousands of unique countries, one-hot encoding would create thousands of features, which can result in computational overhead, increased storage requirements, and reduced model performance. In such cases, we can use nominal encoding, where each unique value is mapped to a numerical code. This approach would result in a much smaller feature space and would be more computationally efficient.\n",
    "\n",
    "For instance, in a dataset containing a column 'Car Brand', one-hot encoding will create a binary feature for each car brand present in the dataset. Suppose we have a dataset with 100 unique car brands, which would result in 100 new features with values either 0 or 1. In this case, nominal encoding would be a more reasonable option to reduce the computational burden. We can assign a unique numerical code to each car brand, e.g., assigning 1 to Ford, 2 to Toyota, and so on. With nominal encoding, we only need one feature with numeric codes for each unique car brand, making it more efficient and computationally manageable."
   ]
  },
  {
   "attachments": {},
   "cell_type": "markdown",
   "metadata": {},
   "source": [
    "Q4. Suppose you have a dataset containing categorical data with 5 unique values. Which encoding\n",
    "technique would you use to transform this data into a format suitable for machine learning algorithms?\n",
    "Explain why you made this choice."
   ]
  },
  {
   "cell_type": "code",
   "execution_count": 19,
   "metadata": {},
   "outputs": [
    {
     "data": {
      "text/html": [
       "<div>\n",
       "<style scoped>\n",
       "    .dataframe tbody tr th:only-of-type {\n",
       "        vertical-align: middle;\n",
       "    }\n",
       "\n",
       "    .dataframe tbody tr th {\n",
       "        vertical-align: top;\n",
       "    }\n",
       "\n",
       "    .dataframe thead th {\n",
       "        text-align: right;\n",
       "    }\n",
       "</style>\n",
       "<table border=\"1\" class=\"dataframe\">\n",
       "  <thead>\n",
       "    <tr style=\"text-align: right;\">\n",
       "      <th></th>\n",
       "      <th>name</th>\n",
       "      <th>name_adi</th>\n",
       "      <th>name_adir</th>\n",
       "      <th>name_dev</th>\n",
       "      <th>name_surya</th>\n",
       "      <th>name_ved</th>\n",
       "    </tr>\n",
       "  </thead>\n",
       "  <tbody>\n",
       "    <tr>\n",
       "      <th>0</th>\n",
       "      <td>dev</td>\n",
       "      <td>0.0</td>\n",
       "      <td>0.0</td>\n",
       "      <td>1.0</td>\n",
       "      <td>0.0</td>\n",
       "      <td>0.0</td>\n",
       "    </tr>\n",
       "    <tr>\n",
       "      <th>1</th>\n",
       "      <td>ved</td>\n",
       "      <td>0.0</td>\n",
       "      <td>0.0</td>\n",
       "      <td>0.0</td>\n",
       "      <td>0.0</td>\n",
       "      <td>1.0</td>\n",
       "    </tr>\n",
       "    <tr>\n",
       "      <th>2</th>\n",
       "      <td>surya</td>\n",
       "      <td>0.0</td>\n",
       "      <td>0.0</td>\n",
       "      <td>0.0</td>\n",
       "      <td>1.0</td>\n",
       "      <td>0.0</td>\n",
       "    </tr>\n",
       "    <tr>\n",
       "      <th>3</th>\n",
       "      <td>adi</td>\n",
       "      <td>1.0</td>\n",
       "      <td>0.0</td>\n",
       "      <td>0.0</td>\n",
       "      <td>0.0</td>\n",
       "      <td>0.0</td>\n",
       "    </tr>\n",
       "    <tr>\n",
       "      <th>4</th>\n",
       "      <td>adir</td>\n",
       "      <td>0.0</td>\n",
       "      <td>1.0</td>\n",
       "      <td>0.0</td>\n",
       "      <td>0.0</td>\n",
       "      <td>0.0</td>\n",
       "    </tr>\n",
       "  </tbody>\n",
       "</table>\n",
       "</div>"
      ],
      "text/plain": [
       "    name  name_adi  name_adir  name_dev  name_surya  name_ved\n",
       "0    dev       0.0        0.0       1.0         0.0       0.0\n",
       "1    ved       0.0        0.0       0.0         0.0       1.0\n",
       "2  surya       0.0        0.0       0.0         1.0       0.0\n",
       "3    adi       1.0        0.0       0.0         0.0       0.0\n",
       "4   adir       0.0        1.0       0.0         0.0       0.0"
      ]
     },
     "execution_count": 19,
     "metadata": {},
     "output_type": "execute_result"
    }
   ],
   "source": [
    "data = {\n",
    "    \"name\" : ['dev','ved','surya','adi','adir']\n",
    "}\n",
    "import pandas as pd\n",
    "df = pd.DataFrame(data)\n",
    "from sklearn.preprocessing import OneHotEncoder\n",
    "encoder = OneHotEncoder()\n",
    "encoder.fit(df[['name']])\n",
    "mat = encoder.transform(df[['name']]).toarray()\n",
    "column = encoder.get_feature_names_out()\n",
    "encoded_df = pd.DataFrame(mat,columns=column)\n",
    "pd.concat([df,encoded_df],axis=1)"
   ]
  },
  {
   "attachments": {},
   "cell_type": "markdown",
   "metadata": {},
   "source": [
    "Q5. In a machine learning project, you have a dataset with 1000 rows and 5 columns. Two of the columns\n",
    "are categorical, and the remaining three columns are numerical. If you were to use nominal encoding to\n",
    "transform the categorical data, how many new columns would be created? Show your calculations."
   ]
  },
  {
   "attachments": {},
   "cell_type": "markdown",
   "metadata": {},
   "source": [
    "The number of new columns created after nominal encoding will depend on the number of unique values in each categorical column. \n",
    "\n",
    "Suppose the first categorical column has 4 unique values, and the second categorical column has 6 unique values. To encode these two columns, we would need to create two new columns with numerical codes.\n",
    "\n",
    "For the first column, we can create a mapping as follows:\n",
    "- Value 1: 1\n",
    "- Value 2: 2\n",
    "- Value 3: 3\n",
    "- Value 4: 4\n",
    "\n",
    "For the second column, we can create a mapping as follows:\n",
    "- Value 1: 1\n",
    "- Value 2: 2\n",
    "- Value 3: 3\n",
    "- Value 4: 4\n",
    "- Value 5: 5\n",
    "- Value 6: 6\n",
    "\n",
    "After applying nominal encoding, the dataset would have a total of 7 columns (3 numerical columns + 2 new columns for nominal encoding of categorical data):\n",
    "- Column 1: Numerical\n",
    "- Column 2: Numerical\n",
    "- Column 3: Numerical\n",
    "- Column 4: Nominal encoding for categorical column 1 (values 1-4 mapped to numerical codes)\n",
    "- Column 5: Nominal encoding for categorical column 2 (values 1-6 mapped to numerical codes)\n",
    "\n",
    "Therefore, in this example, nominal encoding would result in the creation of two new columns, one for each categorical column."
   ]
  },
  {
   "attachments": {},
   "cell_type": "markdown",
   "metadata": {},
   "source": [
    "Q6. You are working with a dataset containing information about different types of animals, including their\n",
    "species, habitat, and diet. Which encoding technique would you use to transform the categorical data into\n",
    "a format suitable for machine learning algorithms? Justify your answer."
   ]
  },
  {
   "attachments": {},
   "cell_type": "markdown",
   "metadata": {},
   "source": [
    "The choice of encoding technique for categorical data depends on the number of unique values in each categorical feature, as well as the nature of the problem and the machine learning algorithm being used. \n",
    "\n",
    "In the case of the animal dataset, we can use either nominal encoding or one-hot encoding, depending on the number of unique values in each categorical feature.\n",
    "\n",
    "If the categorical features have a small number of unique values, one-hot encoding can be used. For example, if the 'habitat' feature has only a few possible values such as 'jungle', 'ocean', and 'desert', we can use one-hot encoding. One-hot encoding would create a new binary feature for each unique value, with a value of 1 in the corresponding feature and 0 in all others. This approach would allow the machine learning algorithm to capture the relationship between each unique value and the target variable, without introducing bias or ordinality.\n",
    "\n",
    "On the other hand, if the categorical features have a large number of unique values, nominal encoding may be more appropriate. For instance, if the 'species' feature contains hundreds or thousands of unique values, one-hot encoding would result in a massive number of new features, making the dataset hard to manage, and causing computational overhead. In this case, nominal encoding can be used to convert each unique value into a numeric code, which can be used in the machine learning algorithm.\n",
    "\n",
    "Overall, the choice of encoding technique for categorical data should depend on the nature of the problem, the algorithm being used, and the number of unique values in each categorical feature."
   ]
  },
  {
   "attachments": {},
   "cell_type": "markdown",
   "metadata": {},
   "source": [
    "Q7.You are working on a project that involves predicting customer churn for a telecommunications\n",
    "company. You have a dataset with 5 features, including the customer's gender, age, contract type,\n",
    "monthly charges, and tenure. Which encoding technique(s) would you use to transform the categorical\n",
    "data into numerical data? Provide a step-by-step explanation of how you would implement the encoding."
   ]
  },
  {
   "attachments": {},
   "cell_type": "markdown",
   "metadata": {},
   "source": [
    "In this case, we have one categorical feature - the customer's gender - and four numerical features. To transform the categorical data into numerical data, we can use nominal encoding.\n",
    "\n",
    "Here's a step-by-step explanation of how to implement nominal encoding:\n",
    "\n",
    "1. Check the number of unique values in the categorical feature. In this case, we have two unique values - 'Male' and 'Female'.\n",
    "\n",
    "2. Create a mapping of the unique values to numerical codes. For example, we can map 'Male' to 0 and 'Female' to 1.\n",
    "\n",
    "3. Create a new column for the nominal encoding of the categorical feature, and replace the original categorical values with their corresponding numerical codes. The resulting dataset will have 6 columns (5 original features + 1 new column for nominal encoding).\n",
    "\n",
    "Here's an example code snippet using Python and pandas library to perform nominal encoding:\n",
    "\n",
    "```python\n",
    "import pandas as pd\n",
    "\n",
    "# read the dataset\n",
    "df = pd.read_csv('telecom_data.csv')\n",
    "\n",
    "# create a mapping for nominal encoding\n",
    "gender_mapping = {'Male': 0, 'Female': 1}\n",
    "\n",
    "# perform nominal encoding on the 'gender' feature\n",
    "df['gender_encoded'] = df['gender'].map(gender_mapping)\n",
    "\n",
    "# drop the original 'gender' column\n",
    "df.drop('gender', axis=1, inplace=True)\n",
    "\n",
    "# preview the encoded dataset\n",
    "print(df.head())\n",
    "```\n",
    "\n",
    "After implementing nominal encoding, we can further preprocess the numerical features by standardizing or normalizing them to ensure that all features are on the same scale before feeding the data into a machine learning algorithm."
   ]
  },
  {
   "attachments": {},
   "cell_type": "markdown",
   "metadata": {},
   "source": []
  }
 ],
 "metadata": {
  "kernelspec": {
   "display_name": "Python 3",
   "language": "python",
   "name": "python3"
  },
  "language_info": {
   "codemirror_mode": {
    "name": "ipython",
    "version": 3
   },
   "file_extension": ".py",
   "mimetype": "text/x-python",
   "name": "python",
   "nbconvert_exporter": "python",
   "pygments_lexer": "ipython3",
   "version": "3.10.0"
  },
  "orig_nbformat": 4
 },
 "nbformat": 4,
 "nbformat_minor": 2
}
